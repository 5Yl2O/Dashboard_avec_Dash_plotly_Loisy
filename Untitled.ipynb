{
 "cells": [
  {
   "cell_type": "code",
   "execution_count": 4,
   "id": "db6df2a4-906f-49d3-90be-8ecc313d3640",
   "metadata": {},
   "outputs": [],
   "source": [
    "import pandas as pd\n",
    "import requests\n",
    "import plotly.express as px\n",
    "from urllib.parse import urlencode, urlparse "
   ]
  },
  {
   "cell_type": "code",
   "execution_count": 2,
   "id": "2ae442cd-1813-459f-afd0-7d6a02816225",
   "metadata": {},
   "outputs": [],
   "source": [
    "## Données Contrôle sanitaire HubEau\n",
    "scheme='http'\n",
    "netloc='hubeau.eaufrance.fr'\n",
    "path='/api/vbeta/qualite_eau_potable/resultats_dis'\n",
    "params=''\n",
    "query='code_commune=54320&nom_uge=LOISY'\n",
    "fragment=''\n",
    "\n",
    "base ='http://hubeau.eaufrance.fr/'\n",
    "api ='api/vbeta/qualite_eau_potable/resultats_dis'\n",
    "requete ='?code_commune=54320&nom_uge=LOISY'\n",
    "\n",
    "url = base + api + requete\n",
    "\n",
    "r=requests.get(url)\n",
    "res = r.json()\n",
    "df_ars=pd.DataFrame.from_dict(res['data'])\n",
    "\n",
    "## Données Agence de l'Eau Rhin Meuse\n",
    "df_aerm=pd.read_csv('data/fichierDonnesCSV_20220222_084706.csv', sep=';', decimal=',')\n",
    "df_aerm['Date']=pd.to_datetime(df_aerm['Date'])\n",
    "\n",
    "\n",
    "## Données Mairie de Loisy\n",
    "df_mairie=pd.read_csv('data/nitrate_mairie.csv', index_col='Date')\n"
   ]
  },
  {
   "cell_type": "code",
   "execution_count": 5,
   "id": "c7fc44da-bec3-4a28-9351-680f49f18bc9",
   "metadata": {},
   "outputs": [
    {
     "data": {
      "text/plain": [
       "ParseResult(scheme='http', netloc='hubeau.eaufrance.fr', path='/api/vbeta/qualite_eau_potable/resultats_dis', params='', query='code_commune=54320&nom_uge=LOISY', fragment='')"
      ]
     },
     "execution_count": 5,
     "metadata": {},
     "output_type": "execute_result"
    }
   ],
   "source": [
    "urlencode("
   ]
  },
  {
   "cell_type": "code",
   "execution_count": 3,
   "id": "5a65153c-5bbe-47b6-93b9-e6e8a71f8c62",
   "metadata": {},
   "outputs": [
    {
     "data": {
      "text/plain": [
       "4327     72.0\n",
       "4328     48.0\n",
       "4329     72.0\n",
       "4330     79.0\n",
       "4331     76.0\n",
       "         ... \n",
       "75829    48.0\n",
       "75830    48.1\n",
       "75831    56.2\n",
       "75832    53.9\n",
       "75833    51.8\n",
       "Name: Valeur paramètre, Length: 204, dtype: float64"
      ]
     },
     "execution_count": 3,
     "metadata": {},
     "output_type": "execute_result"
    }
   ],
   "source": [
    "df_aerm[df_aerm['Code paramètre'] == 1340]['Valeur paramètre'].replace({',':'.'},regex=True).apply(pd.to_numeric,1)"
   ]
  },
  {
   "cell_type": "code",
   "execution_count": null,
   "id": "171274d4-1fea-4cc1-b319-de8439251ec0",
   "metadata": {},
   "outputs": [],
   "source": [
    "df_ars"
   ]
  },
  {
   "cell_type": "code",
   "execution_count": 29,
   "id": "5c68ff6f-c46a-4689-9978-37cab56b25a3",
   "metadata": {},
   "outputs": [
    {
     "data": {
      "application/vnd.plotly.v1+json": {
       "config": {
        "plotlyServerURL": "https://plot.ly"
       },
       "data": [
        {
         "hovertemplate": "Code BSS=01938X0148<br>Date=%{x}<br>Valeur paramètre=%{y}<extra></extra>",
         "legendgroup": "01938X0148",
         "marker": {
          "color": "#636efa",
          "symbol": "circle"
         },
         "mode": "markers",
         "name": "01938X0148",
         "orientation": "v",
         "showlegend": true,
         "type": "scatter",
         "visible": true,
         "x": [
          "2012-03-15T00:00:00",
          "2012-05-16T00:00:00",
          "2012-11-22T00:00:00",
          "2013-03-13T00:00:00",
          "2013-05-15T00:00:00",
          "2013-11-21T00:00:00",
          "2013-12-09T00:00:00",
          "2014-03-26T00:00:00",
          "2014-04-14T00:00:00",
          "2014-05-21T00:00:00",
          "2014-09-17T00:00:00",
          "2014-11-14T00:00:00",
          "2015-03-26T00:00:00",
          "2015-04-13T00:00:00",
          "2015-05-22T00:00:00",
          "2015-06-11T00:00:00",
          "2015-11-09T00:00:00",
          "2016-05-09T00:00:00",
          "2016-05-17T00:00:00",
          "2016-11-03T00:00:00",
          "2016-11-24T00:00:00",
          "2017-03-03T00:00:00",
          "2017-09-05T00:00:00",
          "2017-11-30T00:00:00",
          "2019-01-03T00:00:00",
          "2019-05-07T00:00:00",
          "2019-09-30T00:00:00",
          "2019-12-11T00:00:00",
          "2020-09-30T00:00:00",
          "2020-11-06T00:00:00",
          "2020-11-24T00:00:00"
         ],
         "xaxis": "x",
         "y": [
          "62,8",
          "56",
          "70,4",
          "77,2",
          "78,7",
          "69",
          "52,5",
          "68",
          "65",
          "54",
          "50",
          "50",
          "42",
          "87,6",
          "42",
          "50",
          "49",
          "51",
          "40",
          "25",
          "13",
          "9,5",
          "44",
          "11",
          "17",
          "59",
          "33",
          "24",
          "41",
          "29",
          "25"
         ],
         "yaxis": "y"
        },
        {
         "hovertemplate": "Code BSS=01938X0150<br>Date=%{x}<br>Valeur paramètre=%{y}<extra></extra>",
         "legendgroup": "01938X0150",
         "marker": {
          "color": "#EF553B",
          "symbol": "circle"
         },
         "mode": "markers",
         "name": "01938X0150",
         "orientation": "v",
         "showlegend": true,
         "type": "scatter",
         "visible": true,
         "x": [
          "2012-03-15T00:00:00",
          "2012-05-16T00:00:00",
          "2012-06-09T00:00:00",
          "2012-11-22T00:00:00",
          "2013-03-13T00:00:00",
          "2013-05-15T00:00:00",
          "2013-11-21T00:00:00",
          "2013-12-09T00:00:00",
          "2014-03-26T00:00:00",
          "2014-04-14T00:00:00",
          "2014-05-21T00:00:00",
          "2014-09-17T00:00:00",
          "2014-11-14T00:00:00",
          "2015-03-26T00:00:00",
          "2015-04-13T00:00:00",
          "2015-05-22T00:00:00",
          "2016-05-09T00:00:00",
          "2016-05-17T00:00:00",
          "2016-11-03T00:00:00",
          "2016-11-24T00:00:00",
          "2017-03-03T00:00:00",
          "2017-09-05T00:00:00",
          "2017-09-29T00:00:00",
          "2017-11-30T00:00:00",
          "2018-06-09T00:00:00",
          "2019-01-03T00:00:00",
          "2019-05-07T00:00:00",
          "2020-09-30T00:00:00",
          "2020-11-06T00:00:00",
          "2020-12-03T00:00:00"
         ],
         "xaxis": "x",
         "y": [
          "54",
          "53,5",
          "52,8",
          "54,2",
          "47,5",
          "50,1",
          "45",
          "40,6",
          "57",
          "81,1",
          "53",
          "49",
          "52",
          "53",
          "59,6",
          "58",
          "55",
          "60",
          "57",
          "46",
          "53",
          "55",
          "74",
          "56",
          "54",
          "54",
          "61",
          "66",
          "76",
          "79"
         ],
         "yaxis": "y"
        },
        {
         "hovertemplate": "Code BSS=01938X0113<br>Date=%{x}<br>Valeur paramètre=%{y}<extra></extra>",
         "legendgroup": "01938X0113",
         "marker": {
          "color": "#00cc96",
          "symbol": "circle"
         },
         "mode": "markers",
         "name": "01938X0113",
         "orientation": "v",
         "showlegend": true,
         "type": "scatter",
         "visible": true,
         "x": [
          "2012-03-15T00:00:00",
          "2012-05-16T00:00:00",
          "2012-06-09T00:00:00",
          "2012-11-22T00:00:00",
          "2013-03-13T00:00:00",
          "2013-05-15T00:00:00",
          "2013-11-21T00:00:00",
          "2013-12-09T00:00:00",
          "2014-03-26T00:00:00",
          "2014-04-14T00:00:00",
          "2014-05-21T00:00:00",
          "2014-09-17T00:00:00",
          "2014-11-14T00:00:00",
          "2015-03-26T00:00:00",
          "2015-04-13T00:00:00",
          "2015-05-22T00:00:00",
          "2015-06-11T00:00:00",
          "2016-05-09T00:00:00",
          "2016-05-17T00:00:00",
          "2016-11-03T00:00:00",
          "2016-11-24T00:00:00",
          "2017-03-03T00:00:00",
          "2017-09-05T00:00:00",
          "2017-09-29T00:00:00",
          "2017-11-30T00:00:00",
          "2018-06-09T00:00:00",
          "2018-09-11T00:00:00",
          "2019-01-03T00:00:00",
          "2019-05-07T00:00:00",
          "2019-09-30T00:00:00",
          "2019-12-11T00:00:00",
          "2020-09-30T00:00:00",
          "2020-11-06T00:00:00",
          "2020-11-24T00:00:00",
          "2020-12-03T00:00:00"
         ],
         "xaxis": "x",
         "y": [
          "47,2",
          "43",
          "48",
          "67,1",
          "67,6",
          "70,2",
          "68",
          "39,9",
          "45",
          "54,5",
          "48",
          "48",
          "49",
          "56",
          "43,4",
          "63",
          "55",
          "70",
          "69",
          "67",
          "61",
          "70",
          "60",
          "70",
          "73",
          "72",
          "72",
          "81",
          "79",
          "76",
          "80",
          "96",
          "100",
          "96",
          "120"
         ],
         "yaxis": "y"
        },
        {
         "hovertemplate": "Code BSS=01938X0147<br>Date=%{x}<br>Valeur paramètre=%{y}<extra></extra>",
         "legendgroup": "01938X0147",
         "marker": {
          "color": "#ab63fa",
          "symbol": "circle"
         },
         "mode": "markers",
         "name": "01938X0147",
         "orientation": "v",
         "showlegend": true,
         "type": "scatter",
         "visible": true,
         "x": [
          "2012-03-15T00:00:00",
          "2012-05-16T00:00:00",
          "2012-06-09T00:00:00",
          "2012-11-22T00:00:00",
          "2013-03-13T00:00:00",
          "2013-04-17T00:00:00",
          "2013-05-15T00:00:00",
          "2013-11-21T00:00:00",
          "2013-12-09T00:00:00",
          "2014-03-26T00:00:00",
          "2014-04-14T00:00:00",
          "2014-05-21T00:00:00",
          "2014-09-17T00:00:00",
          "2014-11-14T00:00:00",
          "2015-03-26T00:00:00",
          "2015-04-13T00:00:00",
          "2015-05-22T00:00:00",
          "2015-06-11T00:00:00",
          "2015-11-09T00:00:00",
          "2016-05-09T00:00:00",
          "2016-05-17T00:00:00",
          "2016-11-03T00:00:00",
          "2016-11-24T00:00:00",
          "2017-03-03T00:00:00",
          "2017-07-11T00:00:00",
          "2017-09-05T00:00:00",
          "2017-11-30T00:00:00",
          "2018-06-09T00:00:00",
          "2018-09-11T00:00:00",
          "2019-01-03T00:00:00",
          "2019-05-07T00:00:00",
          "2019-09-30T00:00:00",
          "2019-12-11T00:00:00",
          "2020-09-30T00:00:00",
          "2020-11-06T00:00:00",
          "2020-11-24T00:00:00",
          "2020-12-03T00:00:00"
         ],
         "xaxis": "x",
         "y": [
          "63,5",
          "61,8",
          "58,3",
          "59,4",
          "65,3",
          "67",
          "65,5",
          "70",
          "48,7",
          "68",
          "61,9",
          "57",
          "56",
          "72",
          "60",
          "61,1",
          "67",
          "50",
          "48",
          "50",
          "54",
          "57",
          "44",
          "35",
          "40,2",
          "49",
          "36",
          "51",
          "50",
          "58",
          "58",
          "55",
          "53",
          "49",
          "53",
          "49",
          "56"
         ],
         "yaxis": "y"
        },
        {
         "hovertemplate": "Code BSS=01938X0151<br>Date=%{x}<br>Valeur paramètre=%{y}<extra></extra>",
         "legendgroup": "01938X0151",
         "marker": {
          "color": "#FFA15A",
          "symbol": "circle"
         },
         "mode": "markers",
         "name": "01938X0151",
         "orientation": "v",
         "showlegend": true,
         "type": "scatter",
         "visible": true,
         "x": [
          "2012-03-15T00:00:00",
          "2012-05-16T00:00:00",
          "2012-06-09T00:00:00",
          "2012-11-22T00:00:00",
          "2013-03-13T00:00:00",
          "2013-05-15T00:00:00",
          "2013-11-21T00:00:00",
          "2013-12-09T00:00:00",
          "2014-03-26T00:00:00",
          "2014-04-14T00:00:00",
          "2014-05-21T00:00:00",
          "2014-09-17T00:00:00",
          "2014-11-14T00:00:00",
          "2015-03-26T00:00:00",
          "2015-04-13T00:00:00",
          "2015-05-22T00:00:00",
          "2015-06-11T00:00:00",
          "2015-11-09T00:00:00",
          "2016-05-09T00:00:00",
          "2016-05-17T00:00:00",
          "2016-11-03T00:00:00",
          "2016-11-24T00:00:00",
          "2017-03-03T00:00:00",
          "2017-09-05T00:00:00",
          "2017-09-29T00:00:00",
          "2017-11-30T00:00:00",
          "2018-06-09T00:00:00",
          "2018-09-11T00:00:00",
          "2019-01-03T00:00:00",
          "2019-05-07T00:00:00",
          "2019-09-30T00:00:00",
          "2019-12-11T00:00:00",
          "2020-09-30T00:00:00",
          "2020-11-06T00:00:00",
          "2020-11-24T00:00:00",
          "2020-12-03T00:00:00"
         ],
         "xaxis": "x",
         "y": [
          "56,1",
          "53,8",
          "51,8",
          "52,9",
          "56,2",
          "53,9",
          "51",
          "48,1",
          "48",
          "27,2",
          "51",
          "49",
          "49",
          "45",
          "24,6",
          "66",
          "57",
          "49",
          "45",
          "47",
          "62",
          "38",
          "41",
          "48",
          "44",
          "43",
          "44",
          "46",
          "66",
          "47",
          "35",
          "43",
          "31",
          "38",
          "39",
          "44"
         ],
         "yaxis": "y"
        },
        {
         "hovertemplate": "Code BSS=01938X0149<br>Date=%{x}<br>Valeur paramètre=%{y}<extra></extra>",
         "legendgroup": "01938X0149",
         "marker": {
          "color": "#19d3f3",
          "symbol": "circle"
         },
         "mode": "markers",
         "name": "01938X0149",
         "orientation": "v",
         "showlegend": true,
         "type": "scatter",
         "visible": true,
         "x": [
          "2012-03-15T00:00:00",
          "2012-05-16T00:00:00",
          "2012-06-09T00:00:00",
          "2012-11-22T00:00:00",
          "2013-03-13T00:00:00",
          "2013-05-15T00:00:00",
          "2013-11-21T00:00:00",
          "2013-12-09T00:00:00",
          "2014-03-26T00:00:00",
          "2014-04-14T00:00:00",
          "2014-05-21T00:00:00",
          "2014-09-17T00:00:00",
          "2014-11-14T00:00:00",
          "2015-03-26T00:00:00",
          "2015-04-13T00:00:00",
          "2015-05-22T00:00:00",
          "2015-06-11T00:00:00",
          "2015-11-09T00:00:00",
          "2016-05-09T00:00:00",
          "2016-05-17T00:00:00",
          "2016-11-03T00:00:00",
          "2016-11-24T00:00:00",
          "2017-03-03T00:00:00",
          "2017-09-05T00:00:00",
          "2017-11-30T00:00:00",
          "2018-06-09T00:00:00",
          "2018-09-11T00:00:00",
          "2019-01-03T00:00:00",
          "2019-05-07T00:00:00",
          "2019-09-30T00:00:00",
          "2019-12-11T00:00:00",
          "2020-09-30T00:00:00",
          "2020-11-06T00:00:00",
          "2020-11-24T00:00:00",
          "2020-12-03T00:00:00"
         ],
         "xaxis": "x",
         "y": [
          "74,9",
          "74,9",
          "75,7",
          "75",
          "72,4",
          "77",
          "69",
          "60",
          "86",
          "48,1",
          "79",
          "73",
          "84",
          "86",
          "62",
          "82",
          "76",
          "74",
          "75",
          "85",
          "88",
          "66",
          "67",
          "73",
          "70",
          "73",
          "74",
          "78",
          "83",
          "76",
          "76",
          "79",
          "83",
          "79",
          "91"
         ],
         "yaxis": "y"
        }
       ],
       "layout": {
        "autosize": true,
        "legend": {
         "title": {
          "text": "Code BSS"
         },
         "tracegroupgap": 0
        },
        "margin": {
         "t": 60
        },
        "template": {
         "data": {
          "bar": [
           {
            "error_x": {
             "color": "#2a3f5f"
            },
            "error_y": {
             "color": "#2a3f5f"
            },
            "marker": {
             "line": {
              "color": "#E5ECF6",
              "width": 0.5
             },
             "pattern": {
              "fillmode": "overlay",
              "size": 10,
              "solidity": 0.2
             }
            },
            "type": "bar"
           }
          ],
          "barpolar": [
           {
            "marker": {
             "line": {
              "color": "#E5ECF6",
              "width": 0.5
             },
             "pattern": {
              "fillmode": "overlay",
              "size": 10,
              "solidity": 0.2
             }
            },
            "type": "barpolar"
           }
          ],
          "carpet": [
           {
            "aaxis": {
             "endlinecolor": "#2a3f5f",
             "gridcolor": "white",
             "linecolor": "white",
             "minorgridcolor": "white",
             "startlinecolor": "#2a3f5f"
            },
            "baxis": {
             "endlinecolor": "#2a3f5f",
             "gridcolor": "white",
             "linecolor": "white",
             "minorgridcolor": "white",
             "startlinecolor": "#2a3f5f"
            },
            "type": "carpet"
           }
          ],
          "choropleth": [
           {
            "colorbar": {
             "outlinewidth": 0,
             "ticks": ""
            },
            "type": "choropleth"
           }
          ],
          "contour": [
           {
            "colorbar": {
             "outlinewidth": 0,
             "ticks": ""
            },
            "colorscale": [
             [
              0,
              "#0d0887"
             ],
             [
              0.1111111111111111,
              "#46039f"
             ],
             [
              0.2222222222222222,
              "#7201a8"
             ],
             [
              0.3333333333333333,
              "#9c179e"
             ],
             [
              0.4444444444444444,
              "#bd3786"
             ],
             [
              0.5555555555555556,
              "#d8576b"
             ],
             [
              0.6666666666666666,
              "#ed7953"
             ],
             [
              0.7777777777777778,
              "#fb9f3a"
             ],
             [
              0.8888888888888888,
              "#fdca26"
             ],
             [
              1,
              "#f0f921"
             ]
            ],
            "type": "contour"
           }
          ],
          "contourcarpet": [
           {
            "colorbar": {
             "outlinewidth": 0,
             "ticks": ""
            },
            "type": "contourcarpet"
           }
          ],
          "heatmap": [
           {
            "colorbar": {
             "outlinewidth": 0,
             "ticks": ""
            },
            "colorscale": [
             [
              0,
              "#0d0887"
             ],
             [
              0.1111111111111111,
              "#46039f"
             ],
             [
              0.2222222222222222,
              "#7201a8"
             ],
             [
              0.3333333333333333,
              "#9c179e"
             ],
             [
              0.4444444444444444,
              "#bd3786"
             ],
             [
              0.5555555555555556,
              "#d8576b"
             ],
             [
              0.6666666666666666,
              "#ed7953"
             ],
             [
              0.7777777777777778,
              "#fb9f3a"
             ],
             [
              0.8888888888888888,
              "#fdca26"
             ],
             [
              1,
              "#f0f921"
             ]
            ],
            "type": "heatmap"
           }
          ],
          "heatmapgl": [
           {
            "colorbar": {
             "outlinewidth": 0,
             "ticks": ""
            },
            "colorscale": [
             [
              0,
              "#0d0887"
             ],
             [
              0.1111111111111111,
              "#46039f"
             ],
             [
              0.2222222222222222,
              "#7201a8"
             ],
             [
              0.3333333333333333,
              "#9c179e"
             ],
             [
              0.4444444444444444,
              "#bd3786"
             ],
             [
              0.5555555555555556,
              "#d8576b"
             ],
             [
              0.6666666666666666,
              "#ed7953"
             ],
             [
              0.7777777777777778,
              "#fb9f3a"
             ],
             [
              0.8888888888888888,
              "#fdca26"
             ],
             [
              1,
              "#f0f921"
             ]
            ],
            "type": "heatmapgl"
           }
          ],
          "histogram": [
           {
            "marker": {
             "pattern": {
              "fillmode": "overlay",
              "size": 10,
              "solidity": 0.2
             }
            },
            "type": "histogram"
           }
          ],
          "histogram2d": [
           {
            "colorbar": {
             "outlinewidth": 0,
             "ticks": ""
            },
            "colorscale": [
             [
              0,
              "#0d0887"
             ],
             [
              0.1111111111111111,
              "#46039f"
             ],
             [
              0.2222222222222222,
              "#7201a8"
             ],
             [
              0.3333333333333333,
              "#9c179e"
             ],
             [
              0.4444444444444444,
              "#bd3786"
             ],
             [
              0.5555555555555556,
              "#d8576b"
             ],
             [
              0.6666666666666666,
              "#ed7953"
             ],
             [
              0.7777777777777778,
              "#fb9f3a"
             ],
             [
              0.8888888888888888,
              "#fdca26"
             ],
             [
              1,
              "#f0f921"
             ]
            ],
            "type": "histogram2d"
           }
          ],
          "histogram2dcontour": [
           {
            "colorbar": {
             "outlinewidth": 0,
             "ticks": ""
            },
            "colorscale": [
             [
              0,
              "#0d0887"
             ],
             [
              0.1111111111111111,
              "#46039f"
             ],
             [
              0.2222222222222222,
              "#7201a8"
             ],
             [
              0.3333333333333333,
              "#9c179e"
             ],
             [
              0.4444444444444444,
              "#bd3786"
             ],
             [
              0.5555555555555556,
              "#d8576b"
             ],
             [
              0.6666666666666666,
              "#ed7953"
             ],
             [
              0.7777777777777778,
              "#fb9f3a"
             ],
             [
              0.8888888888888888,
              "#fdca26"
             ],
             [
              1,
              "#f0f921"
             ]
            ],
            "type": "histogram2dcontour"
           }
          ],
          "mesh3d": [
           {
            "colorbar": {
             "outlinewidth": 0,
             "ticks": ""
            },
            "type": "mesh3d"
           }
          ],
          "parcoords": [
           {
            "line": {
             "colorbar": {
              "outlinewidth": 0,
              "ticks": ""
             }
            },
            "type": "parcoords"
           }
          ],
          "pie": [
           {
            "automargin": true,
            "type": "pie"
           }
          ],
          "scatter": [
           {
            "marker": {
             "colorbar": {
              "outlinewidth": 0,
              "ticks": ""
             }
            },
            "type": "scatter"
           }
          ],
          "scatter3d": [
           {
            "line": {
             "colorbar": {
              "outlinewidth": 0,
              "ticks": ""
             }
            },
            "marker": {
             "colorbar": {
              "outlinewidth": 0,
              "ticks": ""
             }
            },
            "type": "scatter3d"
           }
          ],
          "scattercarpet": [
           {
            "marker": {
             "colorbar": {
              "outlinewidth": 0,
              "ticks": ""
             }
            },
            "type": "scattercarpet"
           }
          ],
          "scattergeo": [
           {
            "marker": {
             "colorbar": {
              "outlinewidth": 0,
              "ticks": ""
             }
            },
            "type": "scattergeo"
           }
          ],
          "scattergl": [
           {
            "marker": {
             "colorbar": {
              "outlinewidth": 0,
              "ticks": ""
             }
            },
            "type": "scattergl"
           }
          ],
          "scattermapbox": [
           {
            "marker": {
             "colorbar": {
              "outlinewidth": 0,
              "ticks": ""
             }
            },
            "type": "scattermapbox"
           }
          ],
          "scatterpolar": [
           {
            "marker": {
             "colorbar": {
              "outlinewidth": 0,
              "ticks": ""
             }
            },
            "type": "scatterpolar"
           }
          ],
          "scatterpolargl": [
           {
            "marker": {
             "colorbar": {
              "outlinewidth": 0,
              "ticks": ""
             }
            },
            "type": "scatterpolargl"
           }
          ],
          "scatterternary": [
           {
            "marker": {
             "colorbar": {
              "outlinewidth": 0,
              "ticks": ""
             }
            },
            "type": "scatterternary"
           }
          ],
          "surface": [
           {
            "colorbar": {
             "outlinewidth": 0,
             "ticks": ""
            },
            "colorscale": [
             [
              0,
              "#0d0887"
             ],
             [
              0.1111111111111111,
              "#46039f"
             ],
             [
              0.2222222222222222,
              "#7201a8"
             ],
             [
              0.3333333333333333,
              "#9c179e"
             ],
             [
              0.4444444444444444,
              "#bd3786"
             ],
             [
              0.5555555555555556,
              "#d8576b"
             ],
             [
              0.6666666666666666,
              "#ed7953"
             ],
             [
              0.7777777777777778,
              "#fb9f3a"
             ],
             [
              0.8888888888888888,
              "#fdca26"
             ],
             [
              1,
              "#f0f921"
             ]
            ],
            "type": "surface"
           }
          ],
          "table": [
           {
            "cells": {
             "fill": {
              "color": "#EBF0F8"
             },
             "line": {
              "color": "white"
             }
            },
            "header": {
             "fill": {
              "color": "#C8D4E3"
             },
             "line": {
              "color": "white"
             }
            },
            "type": "table"
           }
          ]
         },
         "layout": {
          "annotationdefaults": {
           "arrowcolor": "#2a3f5f",
           "arrowhead": 0,
           "arrowwidth": 1
          },
          "autotypenumbers": "strict",
          "coloraxis": {
           "colorbar": {
            "outlinewidth": 0,
            "ticks": ""
           }
          },
          "colorscale": {
           "diverging": [
            [
             0,
             "#8e0152"
            ],
            [
             0.1,
             "#c51b7d"
            ],
            [
             0.2,
             "#de77ae"
            ],
            [
             0.3,
             "#f1b6da"
            ],
            [
             0.4,
             "#fde0ef"
            ],
            [
             0.5,
             "#f7f7f7"
            ],
            [
             0.6,
             "#e6f5d0"
            ],
            [
             0.7,
             "#b8e186"
            ],
            [
             0.8,
             "#7fbc41"
            ],
            [
             0.9,
             "#4d9221"
            ],
            [
             1,
             "#276419"
            ]
           ],
           "sequential": [
            [
             0,
             "#0d0887"
            ],
            [
             0.1111111111111111,
             "#46039f"
            ],
            [
             0.2222222222222222,
             "#7201a8"
            ],
            [
             0.3333333333333333,
             "#9c179e"
            ],
            [
             0.4444444444444444,
             "#bd3786"
            ],
            [
             0.5555555555555556,
             "#d8576b"
            ],
            [
             0.6666666666666666,
             "#ed7953"
            ],
            [
             0.7777777777777778,
             "#fb9f3a"
            ],
            [
             0.8888888888888888,
             "#fdca26"
            ],
            [
             1,
             "#f0f921"
            ]
           ],
           "sequentialminus": [
            [
             0,
             "#0d0887"
            ],
            [
             0.1111111111111111,
             "#46039f"
            ],
            [
             0.2222222222222222,
             "#7201a8"
            ],
            [
             0.3333333333333333,
             "#9c179e"
            ],
            [
             0.4444444444444444,
             "#bd3786"
            ],
            [
             0.5555555555555556,
             "#d8576b"
            ],
            [
             0.6666666666666666,
             "#ed7953"
            ],
            [
             0.7777777777777778,
             "#fb9f3a"
            ],
            [
             0.8888888888888888,
             "#fdca26"
            ],
            [
             1,
             "#f0f921"
            ]
           ]
          },
          "colorway": [
           "#636efa",
           "#EF553B",
           "#00cc96",
           "#ab63fa",
           "#FFA15A",
           "#19d3f3",
           "#FF6692",
           "#B6E880",
           "#FF97FF",
           "#FECB52"
          ],
          "font": {
           "color": "#2a3f5f"
          },
          "geo": {
           "bgcolor": "white",
           "lakecolor": "white",
           "landcolor": "#E5ECF6",
           "showlakes": true,
           "showland": true,
           "subunitcolor": "white"
          },
          "hoverlabel": {
           "align": "left"
          },
          "hovermode": "closest",
          "mapbox": {
           "style": "light"
          },
          "paper_bgcolor": "white",
          "plot_bgcolor": "#E5ECF6",
          "polar": {
           "angularaxis": {
            "gridcolor": "white",
            "linecolor": "white",
            "ticks": ""
           },
           "bgcolor": "#E5ECF6",
           "radialaxis": {
            "gridcolor": "white",
            "linecolor": "white",
            "ticks": ""
           }
          },
          "scene": {
           "xaxis": {
            "backgroundcolor": "#E5ECF6",
            "gridcolor": "white",
            "gridwidth": 2,
            "linecolor": "white",
            "showbackground": true,
            "ticks": "",
            "zerolinecolor": "white"
           },
           "yaxis": {
            "backgroundcolor": "#E5ECF6",
            "gridcolor": "white",
            "gridwidth": 2,
            "linecolor": "white",
            "showbackground": true,
            "ticks": "",
            "zerolinecolor": "white"
           },
           "zaxis": {
            "backgroundcolor": "#E5ECF6",
            "gridcolor": "white",
            "gridwidth": 2,
            "linecolor": "white",
            "showbackground": true,
            "ticks": "",
            "zerolinecolor": "white"
           }
          },
          "shapedefaults": {
           "line": {
            "color": "#2a3f5f"
           }
          },
          "ternary": {
           "aaxis": {
            "gridcolor": "white",
            "linecolor": "white",
            "ticks": ""
           },
           "baxis": {
            "gridcolor": "white",
            "linecolor": "white",
            "ticks": ""
           },
           "bgcolor": "#E5ECF6",
           "caxis": {
            "gridcolor": "white",
            "linecolor": "white",
            "ticks": ""
           }
          },
          "title": {
           "x": 0.05
          },
          "xaxis": {
           "automargin": true,
           "gridcolor": "white",
           "linecolor": "white",
           "ticks": "",
           "title": {
            "standoff": 15
           },
           "zerolinecolor": "white",
           "zerolinewidth": 2
          },
          "yaxis": {
           "automargin": true,
           "gridcolor": "white",
           "linecolor": "white",
           "ticks": "",
           "title": {
            "standoff": 15
           },
           "zerolinecolor": "white",
           "zerolinewidth": 2
          }
         }
        },
        "xaxis": {
         "anchor": "y",
         "autorange": true,
         "domain": [
          0,
          1
         ],
         "range": [
          "2011-09-08 02:56:17.6099",
          "2021-06-09 21:03:42.3901"
         ],
         "title": {
          "text": "Date"
         },
         "type": "date"
        },
        "yaxis": {
         "anchor": "x",
         "autorange": true,
         "domain": [
          0,
          1
         ],
         "range": [
          -8.12992125984252,
          113.12992125984252
         ],
         "title": {
          "text": "Valeur paramètre"
         },
         "type": "category"
        }
       }
      },
      "image/png": "[encoded data removed]",
      "text/html": [
       "<div>                            <div id=\"7cf802d7-e827-4a96-b421-3b290bc78298\" class=\"plotly-graph-div\" style=\"height:525px; width:100%;\"></div>            <script type=\"text/javascript\">                require([\"plotly\"], function(Plotly) {                    window.PLOTLYENV=window.PLOTLYENV || {};                                    if (document.getElementById(\"7cf802d7-e827-4a96-b421-3b290bc78298\")) {                    Plotly.newPlot(                        \"7cf802d7-e827-4a96-b421-3b290bc78298\",                        [{\"hovertemplate\":\"Code BSS=01938X0148<br>Date=%{x}<br>Valeur param\\u00e8tre=%{y}<extra></extra>\",\"legendgroup\":\"01938X0148\",\"marker\":{\"color\":\"#636efa\",\"symbol\":\"circle\"},\"mode\":\"markers\",\"name\":\"01938X0148\",\"orientation\":\"v\",\"showlegend\":true,\"x\":[\"2012-03-15T00:00:00\",\"2012-05-16T00:00:00\",\"2012-11-22T00:00:00\",\"2013-03-13T00:00:00\",\"2013-05-15T00:00:00\",\"2013-11-21T00:00:00\",\"2013-12-09T00:00:00\",\"2014-03-26T00:00:00\",\"2014-04-14T00:00:00\",\"2014-05-21T00:00:00\",\"2014-09-17T00:00:00\",\"2014-11-14T00:00:00\",\"2015-03-26T00:00:00\",\"2015-04-13T00:00:00\",\"2015-05-22T00:00:00\",\"2015-06-11T00:00:00\",\"2015-11-09T00:00:00\",\"2016-05-09T00:00:00\",\"2016-05-17T00:00:00\",\"2016-11-03T00:00:00\",\"2016-11-24T00:00:00\",\"2017-03-03T00:00:00\",\"2017-09-05T00:00:00\",\"2017-11-30T00:00:00\",\"2019-01-03T00:00:00\",\"2019-05-07T00:00:00\",\"2019-09-30T00:00:00\",\"2019-12-11T00:00:00\",\"2020-09-30T00:00:00\",\"2020-11-06T00:00:00\",\"2020-11-24T00:00:00\"],\"xaxis\":\"x\",\"y\":[\"62,8\",\"56\",\"70,4\",\"77,2\",\"78,7\",\"69\",\"52,5\",\"68\",\"65\",\"54\",\"50\",\"50\",\"42\",\"87,6\",\"42\",\"50\",\"49\",\"51\",\"40\",\"25\",\"13\",\"9,5\",\"44\",\"11\",\"17\",\"59\",\"33\",\"24\",\"41\",\"29\",\"25\"],\"yaxis\":\"y\",\"type\":\"scatter\"},{\"hovertemplate\":\"Code BSS=01938X0150<br>Date=%{x}<br>Valeur param\\u00e8tre=%{y}<extra></extra>\",\"legendgroup\":\"01938X0150\",\"marker\":{\"color\":\"#EF553B\",\"symbol\":\"circle\"},\"mode\":\"markers\",\"name\":\"01938X0150\",\"orientation\":\"v\",\"showlegend\":true,\"x\":[\"2012-03-15T00:00:00\",\"2012-05-16T00:00:00\",\"2012-06-09T00:00:00\",\"2012-11-22T00:00:00\",\"2013-03-13T00:00:00\",\"2013-05-15T00:00:00\",\"2013-11-21T00:00:00\",\"2013-12-09T00:00:00\",\"2014-03-26T00:00:00\",\"2014-04-14T00:00:00\",\"2014-05-21T00:00:00\",\"2014-09-17T00:00:00\",\"2014-11-14T00:00:00\",\"2015-03-26T00:00:00\",\"2015-04-13T00:00:00\",\"2015-05-22T00:00:00\",\"2016-05-09T00:00:00\",\"2016-05-17T00:00:00\",\"2016-11-03T00:00:00\",\"2016-11-24T00:00:00\",\"2017-03-03T00:00:00\",\"2017-09-05T00:00:00\",\"2017-09-29T00:00:00\",\"2017-11-30T00:00:00\",\"2018-06-09T00:00:00\",\"2019-01-03T00:00:00\",\"2019-05-07T00:00:00\",\"2020-09-30T00:00:00\",\"2020-11-06T00:00:00\",\"2020-12-03T00:00:00\"],\"xaxis\":\"x\",\"y\":[\"54\",\"53,5\",\"52,8\",\"54,2\",\"47,5\",\"50,1\",\"45\",\"40,6\",\"57\",\"81,1\",\"53\",\"49\",\"52\",\"53\",\"59,6\",\"58\",\"55\",\"60\",\"57\",\"46\",\"53\",\"55\",\"74\",\"56\",\"54\",\"54\",\"61\",\"66\",\"76\",\"79\"],\"yaxis\":\"y\",\"type\":\"scatter\"},{\"hovertemplate\":\"Code BSS=01938X0113<br>Date=%{x}<br>Valeur param\\u00e8tre=%{y}<extra></extra>\",\"legendgroup\":\"01938X0113\",\"marker\":{\"color\":\"#00cc96\",\"symbol\":\"circle\"},\"mode\":\"markers\",\"name\":\"01938X0113\",\"orientation\":\"v\",\"showlegend\":true,\"x\":[\"2012-03-15T00:00:00\",\"2012-05-16T00:00:00\",\"2012-06-09T00:00:00\",\"2012-11-22T00:00:00\",\"2013-03-13T00:00:00\",\"2013-05-15T00:00:00\",\"2013-11-21T00:00:00\",\"2013-12-09T00:00:00\",\"2014-03-26T00:00:00\",\"2014-04-14T00:00:00\",\"2014-05-21T00:00:00\",\"2014-09-17T00:00:00\",\"2014-11-14T00:00:00\",\"2015-03-26T00:00:00\",\"2015-04-13T00:00:00\",\"2015-05-22T00:00:00\",\"2015-06-11T00:00:00\",\"2016-05-09T00:00:00\",\"2016-05-17T00:00:00\",\"2016-11-03T00:00:00\",\"2016-11-24T00:00:00\",\"2017-03-03T00:00:00\",\"2017-09-05T00:00:00\",\"2017-09-29T00:00:00\",\"2017-11-30T00:00:00\",\"2018-06-09T00:00:00\",\"2018-09-11T00:00:00\",\"2019-01-03T00:00:00\",\"2019-05-07T00:00:00\",\"2019-09-30T00:00:00\",\"2019-12-11T00:00:00\",\"2020-09-30T00:00:00\",\"2020-11-06T00:00:00\",\"2020-11-24T00:00:00\",\"2020-12-03T00:00:00\"],\"xaxis\":\"x\",\"y\":[\"47,2\",\"43\",\"48\",\"67,1\",\"67,6\",\"70,2\",\"68\",\"39,9\",\"45\",\"54,5\",\"48\",\"48\",\"49\",\"56\",\"43,4\",\"63\",\"55\",\"70\",\"69\",\"67\",\"61\",\"70\",\"60\",\"70\",\"73\",\"72\",\"72\",\"81\",\"79\",\"76\",\"80\",\"96\",\"100\",\"96\",\"120\"],\"yaxis\":\"y\",\"type\":\"scatter\"},{\"hovertemplate\":\"Code BSS=01938X0147<br>Date=%{x}<br>Valeur param\\u00e8tre=%{y}<extra></extra>\",\"legendgroup\":\"01938X0147\",\"marker\":{\"color\":\"#ab63fa\",\"symbol\":\"circle\"},\"mode\":\"markers\",\"name\":\"01938X0147\",\"orientation\":\"v\",\"showlegend\":true,\"x\":[\"2012-03-15T00:00:00\",\"2012-05-16T00:00:00\",\"2012-06-09T00:00:00\",\"2012-11-22T00:00:00\",\"2013-03-13T00:00:00\",\"2013-04-17T00:00:00\",\"2013-05-15T00:00:00\",\"2013-11-21T00:00:00\",\"2013-12-09T00:00:00\",\"2014-03-26T00:00:00\",\"2014-04-14T00:00:00\",\"2014-05-21T00:00:00\",\"2014-09-17T00:00:00\",\"2014-11-14T00:00:00\",\"2015-03-26T00:00:00\",\"2015-04-13T00:00:00\",\"2015-05-22T00:00:00\",\"2015-06-11T00:00:00\",\"2015-11-09T00:00:00\",\"2016-05-09T00:00:00\",\"2016-05-17T00:00:00\",\"2016-11-03T00:00:00\",\"2016-11-24T00:00:00\",\"2017-03-03T00:00:00\",\"2017-07-11T00:00:00\",\"2017-09-05T00:00:00\",\"2017-11-30T00:00:00\",\"2018-06-09T00:00:00\",\"2018-09-11T00:00:00\",\"2019-01-03T00:00:00\",\"2019-05-07T00:00:00\",\"2019-09-30T00:00:00\",\"2019-12-11T00:00:00\",\"2020-09-30T00:00:00\",\"2020-11-06T00:00:00\",\"2020-11-24T00:00:00\",\"2020-12-03T00:00:00\"],\"xaxis\":\"x\",\"y\":[\"63,5\",\"61,8\",\"58,3\",\"59,4\",\"65,3\",\"67\",\"65,5\",\"70\",\"48,7\",\"68\",\"61,9\",\"57\",\"56\",\"72\",\"60\",\"61,1\",\"67\",\"50\",\"48\",\"50\",\"54\",\"57\",\"44\",\"35\",\"40,2\",\"49\",\"36\",\"51\",\"50\",\"58\",\"58\",\"55\",\"53\",\"49\",\"53\",\"49\",\"56\"],\"yaxis\":\"y\",\"type\":\"scatter\"},{\"hovertemplate\":\"Code BSS=01938X0151<br>Date=%{x}<br>Valeur param\\u00e8tre=%{y}<extra></extra>\",\"legendgroup\":\"01938X0151\",\"marker\":{\"color\":\"#FFA15A\",\"symbol\":\"circle\"},\"mode\":\"markers\",\"name\":\"01938X0151\",\"orientation\":\"v\",\"showlegend\":true,\"x\":[\"2012-03-15T00:00:00\",\"2012-05-16T00:00:00\",\"2012-06-09T00:00:00\",\"2012-11-22T00:00:00\",\"2013-03-13T00:00:00\",\"2013-05-15T00:00:00\",\"2013-11-21T00:00:00\",\"2013-12-09T00:00:00\",\"2014-03-26T00:00:00\",\"2014-04-14T00:00:00\",\"2014-05-21T00:00:00\",\"2014-09-17T00:00:00\",\"2014-11-14T00:00:00\",\"2015-03-26T00:00:00\",\"2015-04-13T00:00:00\",\"2015-05-22T00:00:00\",\"2015-06-11T00:00:00\",\"2015-11-09T00:00:00\",\"2016-05-09T00:00:00\",\"2016-05-17T00:00:00\",\"2016-11-03T00:00:00\",\"2016-11-24T00:00:00\",\"2017-03-03T00:00:00\",\"2017-09-05T00:00:00\",\"2017-09-29T00:00:00\",\"2017-11-30T00:00:00\",\"2018-06-09T00:00:00\",\"2018-09-11T00:00:00\",\"2019-01-03T00:00:00\",\"2019-05-07T00:00:00\",\"2019-09-30T00:00:00\",\"2019-12-11T00:00:00\",\"2020-09-30T00:00:00\",\"2020-11-06T00:00:00\",\"2020-11-24T00:00:00\",\"2020-12-03T00:00:00\"],\"xaxis\":\"x\",\"y\":[\"56,1\",\"53,8\",\"51,8\",\"52,9\",\"56,2\",\"53,9\",\"51\",\"48,1\",\"48\",\"27,2\",\"51\",\"49\",\"49\",\"45\",\"24,6\",\"66\",\"57\",\"49\",\"45\",\"47\",\"62\",\"38\",\"41\",\"48\",\"44\",\"43\",\"44\",\"46\",\"66\",\"47\",\"35\",\"43\",\"31\",\"38\",\"39\",\"44\"],\"yaxis\":\"y\",\"type\":\"scatter\"},{\"hovertemplate\":\"Code BSS=01938X0149<br>Date=%{x}<br>Valeur param\\u00e8tre=%{y}<extra></extra>\",\"legendgroup\":\"01938X0149\",\"marker\":{\"color\":\"#19d3f3\",\"symbol\":\"circle\"},\"mode\":\"markers\",\"name\":\"01938X0149\",\"orientation\":\"v\",\"showlegend\":true,\"x\":[\"2012-03-15T00:00:00\",\"2012-05-16T00:00:00\",\"2012-06-09T00:00:00\",\"2012-11-22T00:00:00\",\"2013-03-13T00:00:00\",\"2013-05-15T00:00:00\",\"2013-11-21T00:00:00\",\"2013-12-09T00:00:00\",\"2014-03-26T00:00:00\",\"2014-04-14T00:00:00\",\"2014-05-21T00:00:00\",\"2014-09-17T00:00:00\",\"2014-11-14T00:00:00\",\"2015-03-26T00:00:00\",\"2015-04-13T00:00:00\",\"2015-05-22T00:00:00\",\"2015-06-11T00:00:00\",\"2015-11-09T00:00:00\",\"2016-05-09T00:00:00\",\"2016-05-17T00:00:00\",\"2016-11-03T00:00:00\",\"2016-11-24T00:00:00\",\"2017-03-03T00:00:00\",\"2017-09-05T00:00:00\",\"2017-11-30T00:00:00\",\"2018-06-09T00:00:00\",\"2018-09-11T00:00:00\",\"2019-01-03T00:00:00\",\"2019-05-07T00:00:00\",\"2019-09-30T00:00:00\",\"2019-12-11T00:00:00\",\"2020-09-30T00:00:00\",\"2020-11-06T00:00:00\",\"2020-11-24T00:00:00\",\"2020-12-03T00:00:00\"],\"xaxis\":\"x\",\"y\":[\"74,9\",\"74,9\",\"75,7\",\"75\",\"72,4\",\"77\",\"69\",\"60\",\"86\",\"48,1\",\"79\",\"73\",\"84\",\"86\",\"62\",\"82\",\"76\",\"74\",\"75\",\"85\",\"88\",\"66\",\"67\",\"73\",\"70\",\"73\",\"74\",\"78\",\"83\",\"76\",\"76\",\"79\",\"83\",\"79\",\"91\"],\"yaxis\":\"y\",\"type\":\"scatter\"}],                        {\"template\":{\"data\":{\"bar\":[{\"error_x\":{\"color\":\"#2a3f5f\"},\"error_y\":{\"color\":\"#2a3f5f\"},\"marker\":{\"line\":{\"color\":\"#E5ECF6\",\"width\":0.5},\"pattern\":{\"fillmode\":\"overlay\",\"size\":10,\"solidity\":0.2}},\"type\":\"bar\"}],\"barpolar\":[{\"marker\":{\"line\":{\"color\":\"#E5ECF6\",\"width\":0.5},\"pattern\":{\"fillmode\":\"overlay\",\"size\":10,\"solidity\":0.2}},\"type\":\"barpolar\"}],\"carpet\":[{\"aaxis\":{\"endlinecolor\":\"#2a3f5f\",\"gridcolor\":\"white\",\"linecolor\":\"white\",\"minorgridcolor\":\"white\",\"startlinecolor\":\"#2a3f5f\"},\"baxis\":{\"endlinecolor\":\"#2a3f5f\",\"gridcolor\":\"white\",\"linecolor\":\"white\",\"minorgridcolor\":\"white\",\"startlinecolor\":\"#2a3f5f\"},\"type\":\"carpet\"}],\"choropleth\":[{\"colorbar\":{\"outlinewidth\":0,\"ticks\":\"\"},\"type\":\"choropleth\"}],\"contour\":[{\"colorbar\":{\"outlinewidth\":0,\"ticks\":\"\"},\"colorscale\":[[0.0,\"#0d0887\"],[0.1111111111111111,\"#46039f\"],[0.2222222222222222,\"#7201a8\"],[0.3333333333333333,\"#9c179e\"],[0.4444444444444444,\"#bd3786\"],[0.5555555555555556,\"#d8576b\"],[0.6666666666666666,\"#ed7953\"],[0.7777777777777778,\"#fb9f3a\"],[0.8888888888888888,\"#fdca26\"],[1.0,\"#f0f921\"]],\"type\":\"contour\"}],\"contourcarpet\":[{\"colorbar\":{\"outlinewidth\":0,\"ticks\":\"\"},\"type\":\"contourcarpet\"}],\"heatmap\":[{\"colorbar\":{\"outlinewidth\":0,\"ticks\":\"\"},\"colorscale\":[[0.0,\"#0d0887\"],[0.1111111111111111,\"#46039f\"],[0.2222222222222222,\"#7201a8\"],[0.3333333333333333,\"#9c179e\"],[0.4444444444444444,\"#bd3786\"],[0.5555555555555556,\"#d8576b\"],[0.6666666666666666,\"#ed7953\"],[0.7777777777777778,\"#fb9f3a\"],[0.8888888888888888,\"#fdca26\"],[1.0,\"#f0f921\"]],\"type\":\"heatmap\"}],\"heatmapgl\":[{\"colorbar\":{\"outlinewidth\":0,\"ticks\":\"\"},\"colorscale\":[[0.0,\"#0d0887\"],[0.1111111111111111,\"#46039f\"],[0.2222222222222222,\"#7201a8\"],[0.3333333333333333,\"#9c179e\"],[0.4444444444444444,\"#bd3786\"],[0.5555555555555556,\"#d8576b\"],[0.6666666666666666,\"#ed7953\"],[0.7777777777777778,\"#fb9f3a\"],[0.8888888888888888,\"#fdca26\"],[1.0,\"#f0f921\"]],\"type\":\"heatmapgl\"}],\"histogram\":[{\"marker\":{\"pattern\":{\"fillmode\":\"overlay\",\"size\":10,\"solidity\":0.2}},\"type\":\"histogram\"}],\"histogram2d\":[{\"colorbar\":{\"outlinewidth\":0,\"ticks\":\"\"},\"colorscale\":[[0.0,\"#0d0887\"],[0.1111111111111111,\"#46039f\"],[0.2222222222222222,\"#7201a8\"],[0.3333333333333333,\"#9c179e\"],[0.4444444444444444,\"#bd3786\"],[0.5555555555555556,\"#d8576b\"],[0.6666666666666666,\"#ed7953\"],[0.7777777777777778,\"#fb9f3a\"],[0.8888888888888888,\"#fdca26\"],[1.0,\"#f0f921\"]],\"type\":\"histogram2d\"}],\"histogram2dcontour\":[{\"colorbar\":{\"outlinewidth\":0,\"ticks\":\"\"},\"colorscale\":[[0.0,\"#0d0887\"],[0.1111111111111111,\"#46039f\"],[0.2222222222222222,\"#7201a8\"],[0.3333333333333333,\"#9c179e\"],[0.4444444444444444,\"#bd3786\"],[0.5555555555555556,\"#d8576b\"],[0.6666666666666666,\"#ed7953\"],[0.7777777777777778,\"#fb9f3a\"],[0.8888888888888888,\"#fdca26\"],[1.0,\"#f0f921\"]],\"type\":\"histogram2dcontour\"}],\"mesh3d\":[{\"colorbar\":{\"outlinewidth\":0,\"ticks\":\"\"},\"type\":\"mesh3d\"}],\"parcoords\":[{\"line\":{\"colorbar\":{\"outlinewidth\":0,\"ticks\":\"\"}},\"type\":\"parcoords\"}],\"pie\":[{\"automargin\":true,\"type\":\"pie\"}],\"scatter\":[{\"marker\":{\"colorbar\":{\"outlinewidth\":0,\"ticks\":\"\"}},\"type\":\"scatter\"}],\"scatter3d\":[{\"line\":{\"colorbar\":{\"outlinewidth\":0,\"ticks\":\"\"}},\"marker\":{\"colorbar\":{\"outlinewidth\":0,\"ticks\":\"\"}},\"type\":\"scatter3d\"}],\"scattercarpet\":[{\"marker\":{\"colorbar\":{\"outlinewidth\":0,\"ticks\":\"\"}},\"type\":\"scattercarpet\"}],\"scattergeo\":[{\"marker\":{\"colorbar\":{\"outlinewidth\":0,\"ticks\":\"\"}},\"type\":\"scattergeo\"}],\"scattergl\":[{\"marker\":{\"colorbar\":{\"outlinewidth\":0,\"ticks\":\"\"}},\"type\":\"scattergl\"}],\"scattermapbox\":[{\"marker\":{\"colorbar\":{\"outlinewidth\":0,\"ticks\":\"\"}},\"type\":\"scattermapbox\"}],\"scatterpolar\":[{\"marker\":{\"colorbar\":{\"outlinewidth\":0,\"ticks\":\"\"}},\"type\":\"scatterpolar\"}],\"scatterpolargl\":[{\"marker\":{\"colorbar\":{\"outlinewidth\":0,\"ticks\":\"\"}},\"type\":\"scatterpolargl\"}],\"scatterternary\":[{\"marker\":{\"colorbar\":{\"outlinewidth\":0,\"ticks\":\"\"}},\"type\":\"scatterternary\"}],\"surface\":[{\"colorbar\":{\"outlinewidth\":0,\"ticks\":\"\"},\"colorscale\":[[0.0,\"#0d0887\"],[0.1111111111111111,\"#46039f\"],[0.2222222222222222,\"#7201a8\"],[0.3333333333333333,\"#9c179e\"],[0.4444444444444444,\"#bd3786\"],[0.5555555555555556,\"#d8576b\"],[0.6666666666666666,\"#ed7953\"],[0.7777777777777778,\"#fb9f3a\"],[0.8888888888888888,\"#fdca26\"],[1.0,\"#f0f921\"]],\"type\":\"surface\"}],\"table\":[{\"cells\":{\"fill\":{\"color\":\"#EBF0F8\"},\"line\":{\"color\":\"white\"}},\"header\":{\"fill\":{\"color\":\"#C8D4E3\"},\"line\":{\"color\":\"white\"}},\"type\":\"table\"}]},\"layout\":{\"annotationdefaults\":{\"arrowcolor\":\"#2a3f5f\",\"arrowhead\":0,\"arrowwidth\":1},\"autotypenumbers\":\"strict\",\"coloraxis\":{\"colorbar\":{\"outlinewidth\":0,\"ticks\":\"\"}},\"colorscale\":{\"diverging\":[[0,\"#8e0152\"],[0.1,\"#c51b7d\"],[0.2,\"#de77ae\"],[0.3,\"#f1b6da\"],[0.4,\"#fde0ef\"],[0.5,\"#f7f7f7\"],[0.6,\"#e6f5d0\"],[0.7,\"#b8e186\"],[0.8,\"#7fbc41\"],[0.9,\"#4d9221\"],[1,\"#276419\"]],\"sequential\":[[0.0,\"#0d0887\"],[0.1111111111111111,\"#46039f\"],[0.2222222222222222,\"#7201a8\"],[0.3333333333333333,\"#9c179e\"],[0.4444444444444444,\"#bd3786\"],[0.5555555555555556,\"#d8576b\"],[0.6666666666666666,\"#ed7953\"],[0.7777777777777778,\"#fb9f3a\"],[0.8888888888888888,\"#fdca26\"],[1.0,\"#f0f921\"]],\"sequentialminus\":[[0.0,\"#0d0887\"],[0.1111111111111111,\"#46039f\"],[0.2222222222222222,\"#7201a8\"],[0.3333333333333333,\"#9c179e\"],[0.4444444444444444,\"#bd3786\"],[0.5555555555555556,\"#d8576b\"],[0.6666666666666666,\"#ed7953\"],[0.7777777777777778,\"#fb9f3a\"],[0.8888888888888888,\"#fdca26\"],[1.0,\"#f0f921\"]]},\"colorway\":[\"#636efa\",\"#EF553B\",\"#00cc96\",\"#ab63fa\",\"#FFA15A\",\"#19d3f3\",\"#FF6692\",\"#B6E880\",\"#FF97FF\",\"#FECB52\"],\"font\":{\"color\":\"#2a3f5f\"},\"geo\":{\"bgcolor\":\"white\",\"lakecolor\":\"white\",\"landcolor\":\"#E5ECF6\",\"showlakes\":true,\"showland\":true,\"subunitcolor\":\"white\"},\"hoverlabel\":{\"align\":\"left\"},\"hovermode\":\"closest\",\"mapbox\":{\"style\":\"light\"},\"paper_bgcolor\":\"white\",\"plot_bgcolor\":\"#E5ECF6\",\"polar\":{\"angularaxis\":{\"gridcolor\":\"white\",\"linecolor\":\"white\",\"ticks\":\"\"},\"bgcolor\":\"#E5ECF6\",\"radialaxis\":{\"gridcolor\":\"white\",\"linecolor\":\"white\",\"ticks\":\"\"}},\"scene\":{\"xaxis\":{\"backgroundcolor\":\"#E5ECF6\",\"gridcolor\":\"white\",\"gridwidth\":2,\"linecolor\":\"white\",\"showbackground\":true,\"ticks\":\"\",\"zerolinecolor\":\"white\"},\"yaxis\":{\"backgroundcolor\":\"#E5ECF6\",\"gridcolor\":\"white\",\"gridwidth\":2,\"linecolor\":\"white\",\"showbackground\":true,\"ticks\":\"\",\"zerolinecolor\":\"white\"},\"zaxis\":{\"backgroundcolor\":\"#E5ECF6\",\"gridcolor\":\"white\",\"gridwidth\":2,\"linecolor\":\"white\",\"showbackground\":true,\"ticks\":\"\",\"zerolinecolor\":\"white\"}},\"shapedefaults\":{\"line\":{\"color\":\"#2a3f5f\"}},\"ternary\":{\"aaxis\":{\"gridcolor\":\"white\",\"linecolor\":\"white\",\"ticks\":\"\"},\"baxis\":{\"gridcolor\":\"white\",\"linecolor\":\"white\",\"ticks\":\"\"},\"bgcolor\":\"#E5ECF6\",\"caxis\":{\"gridcolor\":\"white\",\"linecolor\":\"white\",\"ticks\":\"\"}},\"title\":{\"x\":0.05},\"xaxis\":{\"automargin\":true,\"gridcolor\":\"white\",\"linecolor\":\"white\",\"ticks\":\"\",\"title\":{\"standoff\":15},\"zerolinecolor\":\"white\",\"zerolinewidth\":2},\"yaxis\":{\"automargin\":true,\"gridcolor\":\"white\",\"linecolor\":\"white\",\"ticks\":\"\",\"title\":{\"standoff\":15},\"zerolinecolor\":\"white\",\"zerolinewidth\":2}}},\"xaxis\":{\"anchor\":\"y\",\"domain\":[0.0,1.0],\"title\":{\"text\":\"Date\"}},\"yaxis\":{\"anchor\":\"x\",\"domain\":[0.0,1.0],\"title\":{\"text\":\"Valeur param\\u00e8tre\"}},\"legend\":{\"title\":{\"text\":\"Code BSS\"},\"tracegroupgap\":0},\"margin\":{\"t\":60}},                        {\"responsive\": true}                    ).then(function(){\n",
       "                            \n",
       "var gd = document.getElementById('7cf802d7-e827-4a96-b421-3b290bc78298');\n",
       "var x = new MutationObserver(function (mutations, observer) {{\n",
       "        var display = window.getComputedStyle(gd).display;\n",
       "        if (!display || display === 'none') {{\n",
       "            console.log([gd, 'removed!']);\n",
       "            Plotly.purge(gd);\n",
       "            observer.disconnect();\n",
       "        }}\n",
       "}});\n",
       "\n",
       "// Listen for the removal of the full notebook cells\n",
       "var notebookContainer = gd.closest('#notebook-container');\n",
       "if (notebookContainer) {{\n",
       "    x.observe(notebookContainer, {childList: true});\n",
       "}}\n",
       "\n",
       "// Listen for the clearing of the current output cell\n",
       "var outputEl = gd.closest('.output');\n",
       "if (outputEl) {{\n",
       "    x.observe(outputEl, {childList: true});\n",
       "}}\n",
       "\n",
       "                        })                };                });            </script>        </div>"
      ]
     },
     "metadata": {},
     "output_type": "display_data"
    }
   ],
   "source": [
    "px.scatter(df_aerm[df_aerm['Code paramètre'] == 1340],x='Date', y='Valeur paramètre', color='Code BSS')"
   ]
  },
  {
   "cell_type": "code",
   "execution_count": 30,
   "id": "3d6d91e3-4bc3-4520-9e7c-e730baf1a2c6",
   "metadata": {},
   "outputs": [
    {
     "data": {
      "text/html": [
       "<div>\n",
       "<style scoped>\n",
       "    .dataframe tbody tr th:only-of-type {\n",
       "        vertical-align: middle;\n",
       "    }\n",
       "\n",
       "    .dataframe tbody tr th {\n",
       "        vertical-align: top;\n",
       "    }\n",
       "\n",
       "    .dataframe thead th {\n",
       "        text-align: right;\n",
       "    }\n",
       "</style>\n",
       "<table border=\"1\" class=\"dataframe\">\n",
       "  <thead>\n",
       "    <tr style=\"text-align: right;\">\n",
       "      <th></th>\n",
       "      <th>source 1</th>\n",
       "      <th>source 2</th>\n",
       "      <th>source 3</th>\n",
       "      <th>source 4</th>\n",
       "      <th>source 5</th>\n",
       "      <th>source 6</th>\n",
       "      <th>source 7</th>\n",
       "    </tr>\n",
       "    <tr>\n",
       "      <th>Date</th>\n",
       "      <th></th>\n",
       "      <th></th>\n",
       "      <th></th>\n",
       "      <th></th>\n",
       "      <th></th>\n",
       "      <th></th>\n",
       "      <th></th>\n",
       "    </tr>\n",
       "  </thead>\n",
       "  <tbody>\n",
       "    <tr>\n",
       "      <th>26/03/2015</th>\n",
       "      <td>60.0</td>\n",
       "      <td>42.0</td>\n",
       "      <td>86.0</td>\n",
       "      <td>53.0</td>\n",
       "      <td>56.0</td>\n",
       "      <td>45</td>\n",
       "      <td>NaN</td>\n",
       "    </tr>\n",
       "    <tr>\n",
       "      <th>22/05/2015</th>\n",
       "      <td>67.0</td>\n",
       "      <td>42.0</td>\n",
       "      <td>82.0</td>\n",
       "      <td>58.0</td>\n",
       "      <td>63.0</td>\n",
       "      <td>66</td>\n",
       "      <td>NaN</td>\n",
       "    </tr>\n",
       "    <tr>\n",
       "      <th>11/09/2015</th>\n",
       "      <td>48.0</td>\n",
       "      <td>49.0</td>\n",
       "      <td>74.0</td>\n",
       "      <td>NaN</td>\n",
       "      <td>NaN</td>\n",
       "      <td>49</td>\n",
       "      <td>NaN</td>\n",
       "    </tr>\n",
       "    <tr>\n",
       "      <th>06/11/2015</th>\n",
       "      <td>50.0</td>\n",
       "      <td>50.0</td>\n",
       "      <td>76.0</td>\n",
       "      <td>NaN</td>\n",
       "      <td>55.0</td>\n",
       "      <td>57</td>\n",
       "      <td>NaN</td>\n",
       "    </tr>\n",
       "    <tr>\n",
       "      <th>11/03/2016</th>\n",
       "      <td>57.0</td>\n",
       "      <td>25.0</td>\n",
       "      <td>88.0</td>\n",
       "      <td>57.0</td>\n",
       "      <td>67.0</td>\n",
       "      <td>62</td>\n",
       "      <td>NaN</td>\n",
       "    </tr>\n",
       "    <tr>\n",
       "      <th>22/05/2016</th>\n",
       "      <td>54.0</td>\n",
       "      <td>40.0</td>\n",
       "      <td>85.0</td>\n",
       "      <td>60.0</td>\n",
       "      <td>69.0</td>\n",
       "      <td>47</td>\n",
       "      <td>NaN</td>\n",
       "    </tr>\n",
       "    <tr>\n",
       "      <th>11/09/2016</th>\n",
       "      <td>50.0</td>\n",
       "      <td>51.0</td>\n",
       "      <td>75.0</td>\n",
       "      <td>55.0</td>\n",
       "      <td>70.0</td>\n",
       "      <td>45</td>\n",
       "      <td>NaN</td>\n",
       "    </tr>\n",
       "    <tr>\n",
       "      <th>06/11/2016</th>\n",
       "      <td>44.0</td>\n",
       "      <td>13.0</td>\n",
       "      <td>66.0</td>\n",
       "      <td>46.0</td>\n",
       "      <td>61.0</td>\n",
       "      <td>38</td>\n",
       "      <td>NaN</td>\n",
       "    </tr>\n",
       "    <tr>\n",
       "      <th>03/03/2017</th>\n",
       "      <td>35.0</td>\n",
       "      <td>9.5</td>\n",
       "      <td>67.0</td>\n",
       "      <td>53.0</td>\n",
       "      <td>79.0</td>\n",
       "      <td>41</td>\n",
       "      <td>NaN</td>\n",
       "    </tr>\n",
       "    <tr>\n",
       "      <th>09/05/2017</th>\n",
       "      <td>49.0</td>\n",
       "      <td>44.0</td>\n",
       "      <td>73.0</td>\n",
       "      <td>55.0</td>\n",
       "      <td>60.0</td>\n",
       "      <td>48</td>\n",
       "      <td>NaN</td>\n",
       "    </tr>\n",
       "    <tr>\n",
       "      <th>29/09/2017</th>\n",
       "      <td>NaN</td>\n",
       "      <td>NaN</td>\n",
       "      <td>NaN</td>\n",
       "      <td>74.0</td>\n",
       "      <td>70.0</td>\n",
       "      <td>44</td>\n",
       "      <td>NaN</td>\n",
       "    </tr>\n",
       "    <tr>\n",
       "      <th>30/11/2017</th>\n",
       "      <td>36.0</td>\n",
       "      <td>11.0</td>\n",
       "      <td>70.0</td>\n",
       "      <td>56.0</td>\n",
       "      <td>73.0</td>\n",
       "      <td>43</td>\n",
       "      <td>NaN</td>\n",
       "    </tr>\n",
       "    <tr>\n",
       "      <th>06/09/2018</th>\n",
       "      <td>51.0</td>\n",
       "      <td>NaN</td>\n",
       "      <td>73.0</td>\n",
       "      <td>54.0</td>\n",
       "      <td>72.0</td>\n",
       "      <td>44</td>\n",
       "      <td>NaN</td>\n",
       "    </tr>\n",
       "    <tr>\n",
       "      <th>09/11/2018</th>\n",
       "      <td>50.0</td>\n",
       "      <td>NaN</td>\n",
       "      <td>74.0</td>\n",
       "      <td>56.0</td>\n",
       "      <td>54.0</td>\n",
       "      <td>46</td>\n",
       "      <td>NaN</td>\n",
       "    </tr>\n",
       "    <tr>\n",
       "      <th>01/03/2019</th>\n",
       "      <td>58.0</td>\n",
       "      <td>17.0</td>\n",
       "      <td>78.0</td>\n",
       "      <td>54.0</td>\n",
       "      <td>81.0</td>\n",
       "      <td>66</td>\n",
       "      <td>NaN</td>\n",
       "    </tr>\n",
       "    <tr>\n",
       "      <th>05/07/2019</th>\n",
       "      <td>58.0</td>\n",
       "      <td>59.0</td>\n",
       "      <td>83.0</td>\n",
       "      <td>61.0</td>\n",
       "      <td>79.0</td>\n",
       "      <td>47</td>\n",
       "      <td>NaN</td>\n",
       "    </tr>\n",
       "    <tr>\n",
       "      <th>30/09/2019</th>\n",
       "      <td>55.0</td>\n",
       "      <td>33.0</td>\n",
       "      <td>76.0</td>\n",
       "      <td>NaN</td>\n",
       "      <td>76.0</td>\n",
       "      <td>35</td>\n",
       "      <td>NaN</td>\n",
       "    </tr>\n",
       "    <tr>\n",
       "      <th>12/11/2019</th>\n",
       "      <td>53.0</td>\n",
       "      <td>24.0</td>\n",
       "      <td>76.0</td>\n",
       "      <td>NaN</td>\n",
       "      <td>80.0</td>\n",
       "      <td>43</td>\n",
       "      <td>NaN</td>\n",
       "    </tr>\n",
       "    <tr>\n",
       "      <th>12/03/2020</th>\n",
       "      <td>55.0</td>\n",
       "      <td>NaN</td>\n",
       "      <td>93.0</td>\n",
       "      <td>79.0</td>\n",
       "      <td>120.0</td>\n",
       "      <td>44</td>\n",
       "      <td>45.0</td>\n",
       "    </tr>\n",
       "    <tr>\n",
       "      <th>05/07/2020</th>\n",
       "      <td>53.0</td>\n",
       "      <td>29.0</td>\n",
       "      <td>83.0</td>\n",
       "      <td>76.0</td>\n",
       "      <td>100.0</td>\n",
       "      <td>38</td>\n",
       "      <td>40.0</td>\n",
       "    </tr>\n",
       "    <tr>\n",
       "      <th>30/09/2020</th>\n",
       "      <td>49.0</td>\n",
       "      <td>41.0</td>\n",
       "      <td>79.0</td>\n",
       "      <td>66.0</td>\n",
       "      <td>97.0</td>\n",
       "      <td>31</td>\n",
       "      <td>33.0</td>\n",
       "    </tr>\n",
       "    <tr>\n",
       "      <th>24/11/2020</th>\n",
       "      <td>49.0</td>\n",
       "      <td>25.0</td>\n",
       "      <td>79.0</td>\n",
       "      <td>64.0</td>\n",
       "      <td>96.0</td>\n",
       "      <td>39</td>\n",
       "      <td>39.0</td>\n",
       "    </tr>\n",
       "  </tbody>\n",
       "</table>\n",
       "</div>"
      ],
      "text/plain": [
       "            source 1  source 2  source 3  source 4  source 5  source 6  \\\n",
       "Date                                                                     \n",
       "26/03/2015      60.0      42.0      86.0      53.0      56.0        45   \n",
       "22/05/2015      67.0      42.0      82.0      58.0      63.0        66   \n",
       "11/09/2015      48.0      49.0      74.0       NaN       NaN        49   \n",
       "06/11/2015      50.0      50.0      76.0       NaN      55.0        57   \n",
       "11/03/2016      57.0      25.0      88.0      57.0      67.0        62   \n",
       "22/05/2016      54.0      40.0      85.0      60.0      69.0        47   \n",
       "11/09/2016      50.0      51.0      75.0      55.0      70.0        45   \n",
       "06/11/2016      44.0      13.0      66.0      46.0      61.0        38   \n",
       "03/03/2017      35.0       9.5      67.0      53.0      79.0        41   \n",
       "09/05/2017      49.0      44.0      73.0      55.0      60.0        48   \n",
       "29/09/2017       NaN       NaN       NaN      74.0      70.0        44   \n",
       "30/11/2017      36.0      11.0      70.0      56.0      73.0        43   \n",
       "06/09/2018      51.0       NaN      73.0      54.0      72.0        44   \n",
       "09/11/2018      50.0       NaN      74.0      56.0      54.0        46   \n",
       "01/03/2019      58.0      17.0      78.0      54.0      81.0        66   \n",
       "05/07/2019      58.0      59.0      83.0      61.0      79.0        47   \n",
       "30/09/2019      55.0      33.0      76.0       NaN      76.0        35   \n",
       "12/11/2019      53.0      24.0      76.0       NaN      80.0        43   \n",
       "12/03/2020      55.0       NaN      93.0      79.0     120.0        44   \n",
       "05/07/2020      53.0      29.0      83.0      76.0     100.0        38   \n",
       "30/09/2020      49.0      41.0      79.0      66.0      97.0        31   \n",
       "24/11/2020      49.0      25.0      79.0      64.0      96.0        39   \n",
       "\n",
       "            source 7  \n",
       "Date                  \n",
       "26/03/2015       NaN  \n",
       "22/05/2015       NaN  \n",
       "11/09/2015       NaN  \n",
       "06/11/2015       NaN  \n",
       "11/03/2016       NaN  \n",
       "22/05/2016       NaN  \n",
       "11/09/2016       NaN  \n",
       "06/11/2016       NaN  \n",
       "03/03/2017       NaN  \n",
       "09/05/2017       NaN  \n",
       "29/09/2017       NaN  \n",
       "30/11/2017       NaN  \n",
       "06/09/2018       NaN  \n",
       "09/11/2018       NaN  \n",
       "01/03/2019       NaN  \n",
       "05/07/2019       NaN  \n",
       "30/09/2019       NaN  \n",
       "12/11/2019       NaN  \n",
       "12/03/2020      45.0  \n",
       "05/07/2020      40.0  \n",
       "30/09/2020      33.0  \n",
       "24/11/2020      39.0  "
      ]
     },
     "execution_count": 30,
     "metadata": {},
     "output_type": "execute_result"
    }
   ],
   "source": [
    "df_mairie"
   ]
  },
  {
   "cell_type": "code",
   "execution_count": null,
   "id": "308507d8-d2cd-4007-9fc3-958b02db9bcd",
   "metadata": {},
   "outputs": [],
   "source": []
  }
 ],
 "metadata": {
  "kernelspec": {
   "display_name": "Python 3 (ipykernel)",
   "language": "python",
   "name": "python3"
  },
  "language_info": {
   "codemirror_mode": {
    "name": "ipython",
    "version": 3
   },
   "file_extension": ".py",
   "mimetype": "text/x-python",
   "name": "python",
   "nbconvert_exporter": "python",
   "pygments_lexer": "ipython3",
   "version": "3.9.7"
  }
 },
 "nbformat": 4,
 "nbformat_minor": 5
}
